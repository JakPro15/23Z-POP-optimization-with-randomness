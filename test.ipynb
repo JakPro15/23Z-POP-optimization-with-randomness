{
 "cells": [
  {
   "cell_type": "code",
   "execution_count": 1,
   "metadata": {},
   "outputs": [
    {
     "name": "stdout",
     "output_type": "stream",
     "text": [
      "10\n"
     ]
    }
   ],
   "source": [
    "import numpy as np\n",
    "from numpy.typing import NDArray\n",
    "import random\n",
    "Vector = NDArray[np.float64]\n",
    "\n",
    "def square(x: Vector) -> np.float64:\n",
    "    return np.sum(x ** 2)\n",
    "\n",
    "print(square(np.array([1, 1, 1, 1, 1, 1, 1, 1, 1, 1])))\n"
   ]
  },
  {
   "cell_type": "code",
   "execution_count": 2,
   "metadata": {},
   "outputs": [],
   "source": [
    "from es_mu_plus_lambda import es_mu_plus_lambda\n",
    "from differential_evolution import differential_evolution\n",
    "from functions import eggholder, add_randomness, disturbed_square, ackley\n",
    "# from scipy.optimize import differential_evolution"
   ]
  },
  {
   "cell_type": "code",
   "execution_count": 3,
   "metadata": {},
   "outputs": [
    {
     "name": "stdout",
     "output_type": "stream",
     "text": [
      "len(initial_population)=20 lambd=100 initial_mutation_strength=100 max_iterations=1000\n"
     ]
    }
   ],
   "source": [
    "init = [np.random.uniform(-512, 512, size=50) for _ in range(20)]\n",
    "np.random.seed(0)\n",
    "random.seed(0)\n",
    "res, resses = es_mu_plus_lambda(init, square, 5 * len(init), 100, 1000)\n",
    "# res = differential_evolution(square, [(-1000, 1000)] * 50, mutation=1, recombination=0.5, init='random', updating='deferred')\n",
    "# res, resses = differential_evolution(init, square, 0.5, 0.2, 1000)"
   ]
  },
  {
   "cell_type": "code",
   "execution_count": 4,
   "metadata": {},
   "outputs": [
    {
     "data": {
      "text/plain": [
       "[<matplotlib.lines.Line2D at 0x264a14a9090>]"
      ]
     },
     "execution_count": 4,
     "metadata": {},
     "output_type": "execute_result"
    },
    {
     "data": {
      "image/png": "[encoded data removed]",
      "text/plain": [
       "<Figure size 432x288 with 1 Axes>"
      ]
     },
     "metadata": {
      "needs_background": "light"
     },
     "output_type": "display_data"
    }
   ],
   "source": [
    "import matplotlib.pyplot as plt\n",
    "from math import log10\n",
    "fits = [log10(square(ress)) if square(ress) != 0 else -500 for ress in resses]\n",
    "plt.plot(list(range(len(fits))), fits)\n"
   ]
  },
  {
   "cell_type": "code",
   "execution_count": 7,
   "metadata": {},
   "outputs": [
    {
     "data": {
      "text/plain": [
       "1.4116804548974858e-05"
      ]
     },
     "execution_count": 7,
     "metadata": {},
     "output_type": "execute_result"
    }
   ],
   "source": [
    "square(res)"
   ]
  },
  {
   "cell_type": "code",
   "execution_count": null,
   "metadata": {},
   "outputs": [],
   "source": []
  }
 ],
 "metadata": {
  "kernelspec": {
   "display_name": "Python 3",
   "language": "python",
   "name": "python3"
  },
  "language_info": {
   "codemirror_mode": {
    "name": "ipython",
    "version": 3
   },
   "file_extension": ".py",
   "mimetype": "text/x-python",
   "name": "python",
   "nbconvert_exporter": "python",
   "pygments_lexer": "ipython3",
   "version": "3.10.2"
  }
 },
 "nbformat": 4,
 "nbformat_minor": 2
}
